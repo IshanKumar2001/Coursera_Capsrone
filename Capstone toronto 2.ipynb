{
    "nbformat_minor": 2, 
    "cells": [
        {
            "source": "#  Capstone Toronto 2\n\n", 
            "cell_type": "markdown", 
            "metadata": {}
        }, 
        {
            "execution_count": 1, 
            "cell_type": "code", 
            "metadata": {}, 
            "outputs": [
                {
                    "output_type": "stream", 
                    "name": "stdout", 
                    "text": "sucessfully imported libraries.\n"
                }
            ], 
            "source": "import requests \nimport lxml.html as lh\nfrom bs4 import BeautifulSoup\nimport urllib.request\n\nimport numpy as np \nimport pandas as pd \nprint('sucessfully imported libraries.')"
        }, 
        {
            "source": "### Scraping", 
            "cell_type": "markdown", 
            "metadata": {}
        }, 
        {
            "execution_count": 3, 
            "cell_type": "code", 
            "metadata": {}, 
            "outputs": [], 
            "source": "url   = \"https://en.wikipedia.org/wiki/List_of_postal_codes_of_Canada:_M\""
        }, 
        {
            "execution_count": 4, 
            "cell_type": "code", 
            "metadata": {}, 
            "outputs": [
                {
                    "execution_count": 4, 
                    "metadata": {}, 
                    "data": {
                        "text/plain": "[['Postcode', 'Borough', 'Neighbourhood'],\n ['M1A', 'Not assigned', 'Not assigned'],\n ['M2A', 'Not assigned', 'Not assigned'],\n ['M3A', 'North York', 'Parkwoods'],\n ['M4A', 'North York', 'Victoria Village'],\n ['M5A', 'Downtown Toronto', 'Harbourfront'],\n ['M5A', 'Downtown Toronto', 'Regent Park'],\n ['M6A', 'North York', 'Lawrence Heights'],\n ['M6A', 'North York', 'Lawrence Manor'],\n ['M7A', \"Queen's Park\", 'Not assigned'],\n ['M8A', 'Not assigned', 'Not assigned'],\n ['M9A', 'Etobicoke', 'Islington Avenue'],\n ['M1B', 'Scarborough', 'Rouge'],\n ['M1B', 'Scarborough', 'Malvern'],\n ['M2B', 'Not assigned', 'Not assigned'],\n ['M3B', 'North York', 'Don Mills North'],\n ['M4B', 'East York', 'Woodbine Gardens'],\n ['M4B', 'East York', 'Parkview Hill'],\n ['M5B', 'Downtown Toronto', 'Ryerson'],\n ['M5B', 'Downtown Toronto', 'Garden District'],\n ['M6B', 'North York', 'Glencairn'],\n ['M7B', 'Not assigned', 'Not assigned'],\n ['M8B', 'Not assigned', 'Not assigned'],\n ['M9B', 'Etobicoke', 'Cloverdale'],\n ['M9B', 'Etobicoke', 'Islington'],\n ['M9B', 'Etobicoke', 'Martin Grove'],\n ['M9B', 'Etobicoke', 'Princess Gardens'],\n ['M9B', 'Etobicoke', 'West Deane Park'],\n ['M1C', 'Scarborough', 'Highland Creek'],\n ['M1C', 'Scarborough', 'Rouge Hill'],\n ['M1C', 'Scarborough', 'Port Union'],\n ['M2C', 'Not assigned', 'Not assigned'],\n ['M3C', 'North York', 'Flemingdon Park'],\n ['M3C', 'North York', 'Don Mills South'],\n ['M4C', 'East York', 'Woodbine Heights'],\n ['M5C', 'Downtown Toronto', 'St. James Town'],\n ['M6C', 'York', 'Humewood-Cedarvale'],\n ['M7C', 'Not assigned', 'Not assigned'],\n ['M8C', 'Not assigned', 'Not assigned'],\n ['M9C', 'Etobicoke', 'Bloordale Gardens'],\n ['M9C', 'Etobicoke', 'Eringate'],\n ['M9C', 'Etobicoke', 'Markland Wood'],\n ['M9C', 'Etobicoke', 'Old Burnhamthorpe'],\n ['M1E', 'Scarborough', 'Guildwood'],\n ['M1E', 'Scarborough', 'Morningside'],\n ['M1E', 'Scarborough', 'West Hill'],\n ['M2E', 'Not assigned', 'Not assigned'],\n ['M3E', 'Not assigned', 'Not assigned'],\n ['M4E', 'East Toronto', 'The Beaches'],\n ['M5E', 'Downtown Toronto', 'Berczy Park'],\n ['M6E', 'York', 'Caledonia-Fairbanks'],\n ['M7E', 'Not assigned', 'Not assigned'],\n ['M8E', 'Not assigned', 'Not assigned'],\n ['M9E', 'Not assigned', 'Not assigned'],\n ['M1G', 'Scarborough', 'Woburn'],\n ['M2G', 'Not assigned', 'Not assigned'],\n ['M3G', 'Not assigned', 'Not assigned'],\n ['M4G', 'East York', 'Leaside'],\n ['M5G', 'Downtown Toronto', 'Central Bay Street'],\n ['M6G', 'Downtown Toronto', 'Christie'],\n ['M7G', 'Not assigned', 'Not assigned'],\n ['M8G', 'Not assigned', 'Not assigned'],\n ['M9G', 'Not assigned', 'Not assigned'],\n ['M1H', 'Scarborough', 'Cedarbrae'],\n ['M2H', 'North York', 'Hillcrest Village'],\n ['M3H', 'North York', 'Bathurst Manor'],\n ['M3H', 'North York', 'Downsview North'],\n ['M3H', 'North York', 'Wilson Heights'],\n ['M4H', 'East York', 'Thorncliffe Park'],\n ['M5H', 'Downtown Toronto', 'Adelaide'],\n ['M5H', 'Downtown Toronto', 'King'],\n ['M5H', 'Downtown Toronto', 'Richmond'],\n ['M6H', 'West Toronto', 'Dovercourt Village'],\n ['M6H', 'West Toronto', 'Dufferin'],\n ['M7H', 'Not assigned', 'Not assigned'],\n ['M8H', 'Not assigned', 'Not assigned'],\n ['M9H', 'Not assigned', 'Not assigned'],\n ['M1J', 'Scarborough', 'Scarborough Village'],\n ['M2J', 'North York', 'Fairview'],\n ['M2J', 'North York', 'Henry Farm'],\n ['M2J', 'North York', 'Oriole'],\n ['M3J', 'North York', 'Northwood Park'],\n ['M3J', 'North York', 'York University'],\n ['M4J', 'East York', 'East Toronto'],\n ['M5J', 'Downtown Toronto', 'Harbourfront East'],\n ['M5J', 'Downtown Toronto', 'Toronto Islands'],\n ['M5J', 'Downtown Toronto', 'Union Station'],\n ['M6J', 'West Toronto', 'Little Portugal'],\n ['M6J', 'West Toronto', 'Trinity'],\n ['M7J', 'Not assigned', 'Not assigned'],\n ['M8J', 'Not assigned', 'Not assigned'],\n ['M9J', 'Not assigned', 'Not assigned'],\n ['M1K', 'Scarborough', 'East Birchmount Park'],\n ['M1K', 'Scarborough', 'Ionview'],\n ['M1K', 'Scarborough', 'Kennedy Park'],\n ['M2K', 'North York', 'Bayview Village'],\n ['M3K', 'North York', 'CFB Toronto'],\n ['M3K', 'North York', 'Downsview East'],\n ['M4K', 'East Toronto', 'The Danforth West'],\n ['M4K', 'East Toronto', 'Riverdale'],\n ['M5K', 'Downtown Toronto', 'Design Exchange'],\n ['M5K', 'Downtown Toronto', 'Toronto Dominion Centre'],\n ['M6K', 'West Toronto', 'Brockton'],\n ['M6K', 'West Toronto', 'Exhibition Place'],\n ['M6K', 'West Toronto', 'Parkdale Village'],\n ['M7K', 'Not assigned', 'Not assigned'],\n ['M8K', 'Not assigned', 'Not assigned'],\n ['M9K', 'Not assigned', 'Not assigned'],\n ['M1L', 'Scarborough', 'Clairlea'],\n ['M1L', 'Scarborough', 'Golden Mile'],\n ['M1L', 'Scarborough', 'Oakridge'],\n ['M2L', 'North York', 'Silver Hills'],\n ['M2L', 'North York', 'York Mills'],\n ['M3L', 'North York', 'Downsview West'],\n ['M4L', 'East Toronto', 'The Beaches West'],\n ['M4L', 'East Toronto', 'India Bazaar'],\n ['M5L', 'Downtown Toronto', 'Commerce Court'],\n ['M5L', 'Downtown Toronto', 'Victoria Hotel'],\n ['M6L', 'North York', 'Downsview'],\n ['M6L', 'North York', 'North Park'],\n ['M6L', 'North York', 'Upwood Park'],\n ['M7L', 'Not assigned', 'Not assigned'],\n ['M8L', 'Not assigned', 'Not assigned'],\n ['M9L', 'North York', 'Humber Summit'],\n ['M1M', 'Scarborough', 'Cliffcrest'],\n ['M1M', 'Scarborough', 'Cliffside'],\n ['M1M', 'Scarborough', 'Scarborough Village West'],\n ['M2M', 'North York', 'Newtonbrook'],\n ['M2M', 'North York', 'Willowdale'],\n ['M3M', 'North York', 'Downsview Central'],\n ['M4M', 'East Toronto', 'Studio District'],\n ['M5M', 'North York', 'Bedford Park'],\n ['M5M', 'North York', 'Lawrence Manor East'],\n ['M6M', 'York', 'Del Ray'],\n ['M6M', 'York', 'Keelesdale'],\n ['M6M', 'York', 'Mount Dennis'],\n ['M6M', 'York', 'Silverthorn'],\n ['M7M', 'Not assigned', 'Not assigned'],\n ['M8M', 'Not assigned', 'Not assigned'],\n ['M9M', 'North York', 'Emery'],\n ['M9M', 'North York', 'Humberlea'],\n ['M1N', 'Scarborough', 'Birch Cliff'],\n ['M1N', 'Scarborough', 'Cliffside West'],\n ['M2N', 'North York', 'Willowdale South'],\n ['M3N', 'North York', 'Downsview Northwest'],\n ['M4N', 'Central Toronto', 'Lawrence Park'],\n ['M5N', 'Central Toronto', 'Roselawn'],\n ['M6N', 'York', 'The Junction North'],\n ['M6N', 'York', 'Runnymede'],\n ['M7N', 'Not assigned', 'Not assigned'],\n ['M8N', 'Not assigned', 'Not assigned'],\n ['M9N', 'York', 'Weston'],\n ['M1P', 'Scarborough', 'Dorset Park'],\n ['M1P', 'Scarborough', 'Scarborough Town Centre'],\n ['M1P', 'Scarborough', 'Wexford Heights'],\n ['M2P', 'North York', 'York Mills West'],\n ['M3P', 'Not assigned', 'Not assigned'],\n ['M4P', 'Central Toronto', 'Davisville North'],\n ['M5P', 'Central Toronto', 'Forest Hill North'],\n ['M5P', 'Central Toronto', 'Forest Hill West'],\n ['M6P', 'West Toronto', 'High Park'],\n ['M6P', 'West Toronto', 'The Junction South'],\n ['M7P', 'Not assigned', 'Not assigned'],\n ['M8P', 'Not assigned', 'Not assigned'],\n ['M9P', 'Etobicoke', 'Westmount'],\n ['M1R', 'Scarborough', 'Maryvale'],\n ['M1R', 'Scarborough', 'Wexford'],\n ['M2R', 'North York', 'Willowdale West'],\n ['M3R', 'Not assigned', 'Not assigned'],\n ['M4R', 'Central Toronto', 'North Toronto West'],\n ['M5R', 'Central Toronto', 'The Annex'],\n ['M5R', 'Central Toronto', 'North Midtown'],\n ['M5R', 'Central Toronto', 'Yorkville'],\n ['M6R', 'West Toronto', 'Parkdale'],\n ['M6R', 'West Toronto', 'Roncesvalles'],\n ['M7R', 'Mississauga', 'Canada Post Gateway Processing Centre'],\n ['M8R', 'Not assigned', 'Not assigned'],\n ['M9R', 'Etobicoke', 'Kingsview Village'],\n ['M9R', 'Etobicoke', 'Martin Grove Gardens'],\n ['M9R', 'Etobicoke', 'Richview Gardens'],\n ['M9R', 'Etobicoke', 'St. Phillips'],\n ['M1S', 'Scarborough', 'Agincourt'],\n ['M2S', 'Not assigned', 'Not assigned'],\n ['M3S', 'Not assigned', 'Not assigned'],\n ['M4S', 'Central Toronto', 'Davisville'],\n ['M5S', 'Downtown Toronto', 'Harbord'],\n ['M5S', 'Downtown Toronto', 'University of Toronto'],\n ['M6S', 'West Toronto', 'Runnymede'],\n ['M6S', 'West Toronto', 'Swansea'],\n ['M7S', 'Not assigned', 'Not assigned'],\n ['M8S', 'Not assigned', 'Not assigned'],\n ['M9S', 'Not assigned', 'Not assigned'],\n ['M1T', 'Scarborough', 'Clarks Corners'],\n ['M1T', 'Scarborough', 'Sullivan'],\n ['M1T', 'Scarborough', \"Tam O'Shanter\"],\n ['M2T', 'Not assigned', 'Not assigned'],\n ['M3T', 'Not assigned', 'Not assigned'],\n ['M4T', 'Central Toronto', 'Moore Park'],\n ['M4T', 'Central Toronto', 'Summerhill East'],\n ['M5T', 'Downtown Toronto', 'Chinatown'],\n ['M5T', 'Downtown Toronto', 'Grange Park'],\n ['M5T', 'Downtown Toronto', 'Kensington Market'],\n ['M6T', 'Not assigned', 'Not assigned'],\n ['M7T', 'Not assigned', 'Not assigned'],\n ['M8T', 'Not assigned', 'Not assigned'],\n ['M9T', 'Not assigned', 'Not assigned'],\n ['M1V', 'Scarborough', 'Agincourt North'],\n ['M1V', 'Scarborough', \"L'Amoreaux East\"],\n ['M1V', 'Scarborough', 'Milliken'],\n ['M1V', 'Scarborough', 'Steeles East'],\n ['M2V', 'Not assigned', 'Not assigned'],\n ['M3V', 'Not assigned', 'Not assigned'],\n ['M4V', 'Central Toronto', 'Deer Park'],\n ['M4V', 'Central Toronto', 'Forest Hill SE'],\n ['M4V', 'Central Toronto', 'Rathnelly'],\n ['M4V', 'Central Toronto', 'South Hill'],\n ['M4V', 'Central Toronto', 'Summerhill West'],\n ['M5V', 'Downtown Toronto', 'CN Tower'],\n ['M5V', 'Downtown Toronto', 'Bathurst Quay'],\n ['M5V', 'Downtown Toronto', 'Island airport'],\n ['M5V', 'Downtown Toronto', 'Harbourfront West'],\n ['M5V', 'Downtown Toronto', 'King and Spadina'],\n ['M5V', 'Downtown Toronto', 'Railway Lands'],\n ['M5V', 'Downtown Toronto', 'South Niagara'],\n ['M6V', 'Not assigned', 'Not assigned'],\n ['M7V', 'Not assigned', 'Not assigned'],\n ['M8V', 'Etobicoke', 'Humber Bay Shores'],\n ['M8V', 'Etobicoke', 'Mimico South'],\n ['M8V', 'Etobicoke', 'New Toronto'],\n ['M9V', 'Etobicoke', 'Albion Gardens'],\n ['M9V', 'Etobicoke', 'Beaumond Heights'],\n ['M9V', 'Etobicoke', 'Humbergate'],\n ['M9V', 'Etobicoke', 'Jamestown'],\n ['M9V', 'Etobicoke', 'Mount Olive'],\n ['M9V', 'Etobicoke', 'Silverstone'],\n ['M9V', 'Etobicoke', 'South Steeles'],\n ['M9V', 'Etobicoke', 'Thistletown'],\n ['M1W', 'Scarborough', \"L'Amoreaux West\"],\n ['M2W', 'Not assigned', 'Not assigned'],\n ['M3W', 'Not assigned', 'Not assigned'],\n ['M4W', 'Downtown Toronto', 'Rosedale'],\n ['M5W', 'Downtown Toronto', 'Stn A PO Boxes 25 The Esplanade'],\n ['M6W', 'Not assigned', 'Not assigned'],\n ['M7W', 'Not assigned', 'Not assigned'],\n ['M8W', 'Etobicoke', 'Alderwood'],\n ['M8W', 'Etobicoke', 'Long Branch'],\n ['M9W', 'Etobicoke', 'Northwest'],\n ['M1X', 'Scarborough', 'Upper Rouge'],\n ['M2X', 'Not assigned', 'Not assigned'],\n ['M3X', 'Not assigned', 'Not assigned'],\n ['M4X', 'Downtown Toronto', 'Cabbagetown'],\n ['M4X', 'Downtown Toronto', 'St. James Town'],\n ['M5X', 'Downtown Toronto', 'First Canadian Place'],\n ['M5X', 'Downtown Toronto', 'Underground city'],\n ['M6X', 'Not assigned', 'Not assigned'],\n ['M7X', 'Not assigned', 'Not assigned'],\n ['M8X', 'Etobicoke', 'The Kingsway'],\n ['M8X', 'Etobicoke', 'Montgomery Road'],\n ['M8X', 'Etobicoke', 'Old Mill North'],\n ['M9X', 'Not assigned', 'Not assigned'],\n ['M1Y', 'Not assigned', 'Not assigned'],\n ['M2Y', 'Not assigned', 'Not assigned'],\n ['M3Y', 'Not assigned', 'Not assigned'],\n ['M4Y', 'Downtown Toronto', 'Church and Wellesley'],\n ['M5Y', 'Not assigned', 'Not assigned'],\n ['M6Y', 'Not assigned', 'Not assigned'],\n ['M7Y', 'East Toronto', 'Business Reply Mail Processing Centre 969 Eastern'],\n ['M8Y', 'Etobicoke', 'Humber Bay'],\n ['M8Y', 'Etobicoke', \"King's Mill Park\"],\n ['M8Y', 'Etobicoke', 'Kingsway Park South East'],\n ['M8Y', 'Etobicoke', 'Mimico NE'],\n ['M8Y', 'Etobicoke', 'Old Mill South'],\n ['M8Y', 'Etobicoke', 'The Queensway East'],\n ['M8Y', 'Etobicoke', 'Royal York South East'],\n ['M8Y', 'Etobicoke', 'Sunnylea'],\n ['M9Y', 'Not assigned', 'Not assigned'],\n ['M1Z', 'Not assigned', 'Not assigned'],\n ['M2Z', 'Not assigned', 'Not assigned'],\n ['M3Z', 'Not assigned', 'Not assigned'],\n ['M4Z', 'Not assigned', 'Not assigned'],\n ['M5Z', 'Not assigned', 'Not assigned'],\n ['M6Z', 'Not assigned', 'Not assigned'],\n ['M7Z', 'Not assigned', 'Not assigned'],\n ['M8Z', 'Etobicoke', 'Kingsway Park South West'],\n ['M8Z', 'Etobicoke', 'Mimico NW'],\n ['M8Z', 'Etobicoke', 'The Queensway West'],\n ['M8Z', 'Etobicoke', 'Royal York South West'],\n ['M8Z', 'Etobicoke', 'South of Bloor'],\n ['M9Z', 'Not assigned', 'Not assigned']]"
                    }, 
                    "output_type": "execute_result"
                }
            ], 
            "source": "result = requests.get(url).text \nresult2 = BeautifulSoup(result, 'html.parser') \n\nneightborhood_table = result2.find('table', class_ = 'wikitable')\nneightborhood_rows = neightborhood_table.find_all('tr')\n\n\nneightborhood_info = []\nfor row in neightborhood_rows:\n    info = row.text.split('\\n')[1:-1]\n    neightborhood_info.append(info)\n    \nneightborhood_info"
        }, 
        {
            "execution_count": 5, 
            "cell_type": "code", 
            "metadata": {}, 
            "outputs": [
                {
                    "execution_count": 5, 
                    "metadata": {}, 
                    "data": {
                        "text/html": "<div>\n<style scoped>\n    .dataframe tbody tr th:only-of-type {\n        vertical-align: middle;\n    }\n\n    .dataframe tbody tr th {\n        vertical-align: top;\n    }\n\n    .dataframe thead th {\n        text-align: right;\n    }\n</style>\n<table border=\"1\" class=\"dataframe\">\n  <thead>\n    <tr style=\"text-align: right;\">\n      <th></th>\n      <th>Postcode</th>\n      <th>Borough</th>\n      <th>Neighborhood</th>\n    </tr>\n  </thead>\n  <tbody>\n    <tr>\n      <th>0</th>\n      <td>M1A</td>\n      <td>Not assigned</td>\n      <td>Not assigned</td>\n    </tr>\n    <tr>\n      <th>1</th>\n      <td>M2A</td>\n      <td>Not assigned</td>\n      <td>Not assigned</td>\n    </tr>\n    <tr>\n      <th>2</th>\n      <td>M3A</td>\n      <td>North York</td>\n      <td>Parkwoods</td>\n    </tr>\n    <tr>\n      <th>3</th>\n      <td>M4A</td>\n      <td>North York</td>\n      <td>Victoria Village</td>\n    </tr>\n    <tr>\n      <th>4</th>\n      <td>M5A</td>\n      <td>Downtown Toronto</td>\n      <td>Harbourfront</td>\n    </tr>\n    <tr>\n      <th>5</th>\n      <td>M5A</td>\n      <td>Downtown Toronto</td>\n      <td>Regent Park</td>\n    </tr>\n    <tr>\n      <th>6</th>\n      <td>M6A</td>\n      <td>North York</td>\n      <td>Lawrence Heights</td>\n    </tr>\n    <tr>\n      <th>7</th>\n      <td>M6A</td>\n      <td>North York</td>\n      <td>Lawrence Manor</td>\n    </tr>\n    <tr>\n      <th>8</th>\n      <td>M7A</td>\n      <td>Queen's Park</td>\n      <td>Not assigned</td>\n    </tr>\n    <tr>\n      <th>9</th>\n      <td>M8A</td>\n      <td>Not assigned</td>\n      <td>Not assigned</td>\n    </tr>\n  </tbody>\n</table>\n</div>", 
                        "text/plain": "  Postcode           Borough      Neighborhood\n0      M1A      Not assigned      Not assigned\n1      M2A      Not assigned      Not assigned\n2      M3A        North York         Parkwoods\n3      M4A        North York  Victoria Village\n4      M5A  Downtown Toronto      Harbourfront\n5      M5A  Downtown Toronto       Regent Park\n6      M6A        North York  Lawrence Heights\n7      M6A        North York    Lawrence Manor\n8      M7A      Queen's Park      Not assigned\n9      M8A      Not assigned      Not assigned"
                    }, 
                    "output_type": "execute_result"
                }
            ], 
            "source": "neightborhood_info[0][-1] = 'Neighborhood' \nneighborhood_df = pd.DataFrame(neightborhood_info[1:], columns=neightborhood_info[0])\n\nneighborhood_df.head(10)"
        }, 
        {
            "source": "# Cleaning data set", 
            "cell_type": "markdown", 
            "metadata": {}
        }, 
        {
            "execution_count": 6, 
            "cell_type": "code", 
            "metadata": {}, 
            "outputs": [
                {
                    "output_type": "stream", 
                    "name": "stdout", 
                    "text": "The DataFrame shape is (288, 3) \n\nThere are:\n  180 Postal codes\n  11 Boroughs\n  208 Neighborhoods\n  77 rows with Not assigned Borough\n  78 rows with Not assigned Neighborhood\n  77 rows with Not assigned Neighborhood and Borough \n\n"
                }
            ], 
            "source": "NA_boroughs = neighborhood_df.index[neighborhood_df['Borough'] == 'Not assigned']\nNA_neighborhoods = neighborhood_df.index[neighborhood_df['Neighborhood'] == 'Not assigned']\nNA_neighborhoods_and_borough = NA_boroughs & NA_neighborhoods\n\nprint('The DataFrame shape is {}'.format(neighborhood_df.shape),'\\n')\nprint('There are:')\nprint('  {} Postal codes'.format(neighborhood_df['Postcode'].unique().shape[0]))\nprint('  {} Boroughs'.format(neighborhood_df['Borough'].unique().shape[0] - 1)) # substract one because \"not assigned\" doesn't count\nprint('  {} Neighborhoods'.format(neighborhood_df['Neighborhood'].unique().shape[0] - 1)) # substract one because \"not assigned\" doesn't count\nprint('  {} rows with Not assigned Borough'.format(NA_boroughs.shape[0]))\nprint('  {} rows with Not assigned Neighborhood'.format(NA_neighborhoods.shape[0]))\nprint('  {} rows with Not assigned Neighborhood and Borough'.format(NA_neighborhoods_and_borough.shape[0]),'\\n')"
        }, 
        {
            "source": "## Dropping N/A Boroughs ", 
            "cell_type": "markdown", 
            "metadata": {}
        }, 
        {
            "execution_count": 7, 
            "cell_type": "code", 
            "metadata": {}, 
            "outputs": [
                {
                    "execution_count": 7, 
                    "metadata": {}, 
                    "data": {
                        "text/html": "<div>\n<style scoped>\n    .dataframe tbody tr th:only-of-type {\n        vertical-align: middle;\n    }\n\n    .dataframe tbody tr th {\n        vertical-align: top;\n    }\n\n    .dataframe thead th {\n        text-align: right;\n    }\n</style>\n<table border=\"1\" class=\"dataframe\">\n  <thead>\n    <tr style=\"text-align: right;\">\n      <th></th>\n      <th>Postcode</th>\n      <th>Borough</th>\n      <th>Neighborhood</th>\n    </tr>\n  </thead>\n  <tbody>\n    <tr>\n      <th>0</th>\n      <td>M3A</td>\n      <td>North York</td>\n      <td>Parkwoods</td>\n    </tr>\n    <tr>\n      <th>1</th>\n      <td>M4A</td>\n      <td>North York</td>\n      <td>Victoria Village</td>\n    </tr>\n    <tr>\n      <th>2</th>\n      <td>M5A</td>\n      <td>Downtown Toronto</td>\n      <td>Harbourfront</td>\n    </tr>\n    <tr>\n      <th>3</th>\n      <td>M5A</td>\n      <td>Downtown Toronto</td>\n      <td>Regent Park</td>\n    </tr>\n    <tr>\n      <th>4</th>\n      <td>M6A</td>\n      <td>North York</td>\n      <td>Lawrence Heights</td>\n    </tr>\n    <tr>\n      <th>5</th>\n      <td>M6A</td>\n      <td>North York</td>\n      <td>Lawrence Manor</td>\n    </tr>\n    <tr>\n      <th>6</th>\n      <td>M7A</td>\n      <td>Queen's Park</td>\n      <td>Not assigned</td>\n    </tr>\n    <tr>\n      <th>7</th>\n      <td>M9A</td>\n      <td>Etobicoke</td>\n      <td>Islington Avenue</td>\n    </tr>\n    <tr>\n      <th>8</th>\n      <td>M1B</td>\n      <td>Scarborough</td>\n      <td>Rouge</td>\n    </tr>\n    <tr>\n      <th>9</th>\n      <td>M1B</td>\n      <td>Scarborough</td>\n      <td>Malvern</td>\n    </tr>\n  </tbody>\n</table>\n</div>", 
                        "text/plain": "  Postcode           Borough      Neighborhood\n0      M3A        North York         Parkwoods\n1      M4A        North York  Victoria Village\n2      M5A  Downtown Toronto      Harbourfront\n3      M5A  Downtown Toronto       Regent Park\n4      M6A        North York  Lawrence Heights\n5      M6A        North York    Lawrence Manor\n6      M7A      Queen's Park      Not assigned\n7      M9A         Etobicoke  Islington Avenue\n8      M1B       Scarborough             Rouge\n9      M1B       Scarborough           Malvern"
                    }, 
                    "output_type": "execute_result"
                }
            ], 
            "source": "neighborhood_df.drop(neighborhood_df.index[NA_boroughs], inplace=True)\nneighborhood_df.reset_index(drop=True, inplace=True)\n\nneighborhood_df.head(10)"
        }, 
        {
            "source": "## Replacing \"Not assigned\" values in the Neighborhood column with Borough name in that cell", 
            "cell_type": "markdown", 
            "metadata": {}
        }, 
        {
            "execution_count": 7, 
            "cell_type": "code", 
            "metadata": {}, 
            "outputs": [
                {
                    "execution_count": 7, 
                    "metadata": {}, 
                    "data": {
                        "text/html": "<div>\n<style scoped>\n    .dataframe tbody tr th:only-of-type {\n        vertical-align: middle;\n    }\n\n    .dataframe tbody tr th {\n        vertical-align: top;\n    }\n\n    .dataframe thead th {\n        text-align: right;\n    }\n</style>\n<table border=\"1\" class=\"dataframe\">\n  <thead>\n    <tr style=\"text-align: right;\">\n      <th></th>\n      <th>Postcode</th>\n      <th>Borough</th>\n      <th>Neighborhood</th>\n    </tr>\n  </thead>\n  <tbody>\n    <tr>\n      <th>0</th>\n      <td>M1A</td>\n      <td>Not assigned</td>\n      <td>Not assigned</td>\n    </tr>\n    <tr>\n      <th>1</th>\n      <td>M2A</td>\n      <td>Not assigned</td>\n      <td>Not assigned</td>\n    </tr>\n    <tr>\n      <th>2</th>\n      <td>M3A</td>\n      <td>North York</td>\n      <td>Parkwoods</td>\n    </tr>\n    <tr>\n      <th>3</th>\n      <td>M4A</td>\n      <td>North York</td>\n      <td>Victoria Village</td>\n    </tr>\n    <tr>\n      <th>4</th>\n      <td>M5A</td>\n      <td>Downtown Toronto</td>\n      <td>Harbourfront</td>\n    </tr>\n    <tr>\n      <th>5</th>\n      <td>M5A</td>\n      <td>Downtown Toronto</td>\n      <td>Regent Park</td>\n    </tr>\n    <tr>\n      <th>6</th>\n      <td>M6A</td>\n      <td>North York</td>\n      <td>Lawrence Heights</td>\n    </tr>\n    <tr>\n      <th>7</th>\n      <td>M6A</td>\n      <td>North York</td>\n      <td>Lawrence Manor</td>\n    </tr>\n    <tr>\n      <th>8</th>\n      <td>M7A</td>\n      <td>Queen's Park</td>\n      <td>Queen's Park</td>\n    </tr>\n    <tr>\n      <th>9</th>\n      <td>M8A</td>\n      <td>Not assigned</td>\n      <td>Not assigned</td>\n    </tr>\n  </tbody>\n</table>\n</div>", 
                        "text/plain": "  Postcode           Borough      Neighborhood\n0      M1A      Not assigned      Not assigned\n1      M2A      Not assigned      Not assigned\n2      M3A        North York         Parkwoods\n3      M4A        North York  Victoria Village\n4      M5A  Downtown Toronto      Harbourfront\n5      M5A  Downtown Toronto       Regent Park\n6      M6A        North York  Lawrence Heights\n7      M6A        North York    Lawrence Manor\n8      M7A      Queen's Park      Queen's Park\n9      M8A      Not assigned      Not assigned"
                    }, 
                    "output_type": "execute_result"
                }
            ], 
            "source": "not_assigned_neighborhoods = neighborhood_df.index[neighborhood_df['Neighborhood'] == 'Not assigned'] # run this again because the indexes on the dataframe where reset\n\nfor idx in not_assigned_neighborhoods:\n    neighborhood_df['Neighborhood'][idx] = neighborhood_df['Borough'][idx]\n    \nneighborhood_df.head(10)"
        }, 
        {
            "execution_count": 8, 
            "cell_type": "code", 
            "metadata": {}, 
            "outputs": [
                {
                    "output_type": "stream", 
                    "name": "stdout", 
                    "text": "New Shape is (288, 3) \n\nThere are:\n  180 Postal codes\n  12 Boroughs\n  210 Neighborhoods\n"
                }
            ], 
            "source": "print('New Shape is {}'.format(neighborhood_df.shape),'\\n')\nprint('There are:')\nprint('  {} Postal codes'.format(neighborhood_df['Postcode'].unique().shape[0]))\nprint('  {} Boroughs'.format(neighborhood_df['Borough'].unique().shape[0]))\nprint('  {} Neighborhoods'.format(neighborhood_df['Neighborhood'].unique().shape[0]))"
        }, 
        {
            "source": "### Integrating Postal Codes ", 
            "cell_type": "markdown", 
            "metadata": {}
        }, 
        {
            "execution_count": 9, 
            "cell_type": "code", 
            "metadata": {}, 
            "outputs": [
                {
                    "execution_count": 9, 
                    "metadata": {}, 
                    "data": {
                        "text/html": "<div>\n<style scoped>\n    .dataframe tbody tr th:only-of-type {\n        vertical-align: middle;\n    }\n\n    .dataframe tbody tr th {\n        vertical-align: top;\n    }\n\n    .dataframe thead th {\n        text-align: right;\n    }\n</style>\n<table border=\"1\" class=\"dataframe\">\n  <thead>\n    <tr style=\"text-align: right;\">\n      <th></th>\n      <th>Postcode</th>\n      <th>Borough</th>\n      <th>Neighborhood</th>\n    </tr>\n  </thead>\n  <tbody>\n    <tr>\n      <th>0</th>\n      <td>M1A</td>\n      <td>Not assigned</td>\n      <td>Not assigned</td>\n    </tr>\n    <tr>\n      <th>1</th>\n      <td>M1B</td>\n      <td>Scarborough</td>\n      <td>Rouge, Malvern</td>\n    </tr>\n    <tr>\n      <th>2</th>\n      <td>M1C</td>\n      <td>Scarborough</td>\n      <td>Highland Creek, Rouge Hill, Port Union</td>\n    </tr>\n    <tr>\n      <th>3</th>\n      <td>M1E</td>\n      <td>Scarborough</td>\n      <td>Guildwood, Morningside, West Hill</td>\n    </tr>\n    <tr>\n      <th>4</th>\n      <td>M1G</td>\n      <td>Scarborough</td>\n      <td>Woburn</td>\n    </tr>\n    <tr>\n      <th>5</th>\n      <td>M1H</td>\n      <td>Scarborough</td>\n      <td>Cedarbrae</td>\n    </tr>\n    <tr>\n      <th>6</th>\n      <td>M1J</td>\n      <td>Scarborough</td>\n      <td>Scarborough Village</td>\n    </tr>\n    <tr>\n      <th>7</th>\n      <td>M1K</td>\n      <td>Scarborough</td>\n      <td>East Birchmount Park, Ionview, Kennedy Park</td>\n    </tr>\n    <tr>\n      <th>8</th>\n      <td>M1L</td>\n      <td>Scarborough</td>\n      <td>Clairlea, Golden Mile, Oakridge</td>\n    </tr>\n    <tr>\n      <th>9</th>\n      <td>M1M</td>\n      <td>Scarborough</td>\n      <td>Cliffcrest, Cliffside, Scarborough Village West</td>\n    </tr>\n  </tbody>\n</table>\n</div>", 
                        "text/plain": "  Postcode       Borough                                     Neighborhood\n0      M1A  Not assigned                                     Not assigned\n1      M1B   Scarborough                                   Rouge, Malvern\n2      M1C   Scarborough           Highland Creek, Rouge Hill, Port Union\n3      M1E   Scarborough                Guildwood, Morningside, West Hill\n4      M1G   Scarborough                                           Woburn\n5      M1H   Scarborough                                        Cedarbrae\n6      M1J   Scarborough                              Scarborough Village\n7      M1K   Scarborough      East Birchmount Park, Ionview, Kennedy Park\n8      M1L   Scarborough                  Clairlea, Golden Mile, Oakridge\n9      M1M   Scarborough  Cliffcrest, Cliffside, Scarborough Village West"
                    }, 
                    "output_type": "execute_result"
                }
            ], 
            "source": "group = neighborhood_df.groupby('Postcode')\ngrouped_neighborhoods = group['Neighborhood'].apply(lambda x: \"%s\" % ', '.join(x))\ngrouped_boroughs = group['Borough'].apply(lambda x: set(x).pop())\ngrouped_df = pd.DataFrame(list(zip(grouped_boroughs.index, grouped_boroughs, grouped_neighborhoods)))\ngrouped_df.columns = ['Postcode', 'Borough', 'Neighborhood']\n\ngrouped_df.head(10)\n"
        }, 
        {
            "execution_count": 10, 
            "cell_type": "code", 
            "metadata": {}, 
            "outputs": [
                {
                    "output_type": "stream", 
                    "name": "stdout", 
                    "text": "shape - (180, 3)\n"
                }
            ], 
            "source": "print('shape -', grouped_df.shape)"
        }, 
        {
            "source": " ## Question 2", 
            "cell_type": "markdown", 
            "metadata": {}
        }, 
        {
            "execution_count": 13, 
            "cell_type": "code", 
            "metadata": {}, 
            "outputs": [
                {
                    "output_type": "stream", 
                    "name": "stdout", 
                    "text": "The coordinates dataframe shape is: (103, 3)\n"
                }, 
                {
                    "execution_count": 13, 
                    "metadata": {}, 
                    "data": {
                        "text/html": "<div>\n<style scoped>\n    .dataframe tbody tr th:only-of-type {\n        vertical-align: middle;\n    }\n\n    .dataframe tbody tr th {\n        vertical-align: top;\n    }\n\n    .dataframe thead th {\n        text-align: right;\n    }\n</style>\n<table border=\"1\" class=\"dataframe\">\n  <thead>\n    <tr style=\"text-align: right;\">\n      <th></th>\n      <th>Postal Code</th>\n      <th>Latitude</th>\n      <th>Longitude</th>\n    </tr>\n  </thead>\n  <tbody>\n    <tr>\n      <th>0</th>\n      <td>M1B</td>\n      <td>43.806686</td>\n      <td>-79.194353</td>\n    </tr>\n    <tr>\n      <th>1</th>\n      <td>M1C</td>\n      <td>43.784535</td>\n      <td>-79.160497</td>\n    </tr>\n    <tr>\n      <th>2</th>\n      <td>M1E</td>\n      <td>43.763573</td>\n      <td>-79.188711</td>\n    </tr>\n    <tr>\n      <th>3</th>\n      <td>M1G</td>\n      <td>43.770992</td>\n      <td>-79.216917</td>\n    </tr>\n    <tr>\n      <th>4</th>\n      <td>M1H</td>\n      <td>43.773136</td>\n      <td>-79.239476</td>\n    </tr>\n  </tbody>\n</table>\n</div>", 
                        "text/plain": "  Postal Code   Latitude  Longitude\n0         M1B  43.806686 -79.194353\n1         M1C  43.784535 -79.160497\n2         M1E  43.763573 -79.188711\n3         M1G  43.770992 -79.216917\n4         M1H  43.773136 -79.239476"
                    }, 
                    "output_type": "execute_result"
                }
            ], 
            "source": "import io\nimport requests\nurl=\"https://cocl.us/Geospatial_data\"\ns=requests.get(url).content\n\ncoordinates_df = pd.read_csv(io.StringIO(s.decode('utf-8')))\n\nprint('The coordinates dataframe shape is:', coordinates_df.shape)\ncoordinates_df.head()"
        }, 
        {
            "source": "### Adding Coordinates", 
            "cell_type": "markdown", 
            "metadata": {}
        }, 
        {
            "execution_count": 15, 
            "cell_type": "code", 
            "metadata": {}, 
            "outputs": [
                {
                    "execution_count": 15, 
                    "metadata": {}, 
                    "data": {
                        "text/html": "<div>\n<style scoped>\n    .dataframe tbody tr th:only-of-type {\n        vertical-align: middle;\n    }\n\n    .dataframe tbody tr th {\n        vertical-align: top;\n    }\n\n    .dataframe thead th {\n        text-align: right;\n    }\n</style>\n<table border=\"1\" class=\"dataframe\">\n  <thead>\n    <tr style=\"text-align: right;\">\n      <th></th>\n      <th>Postcode</th>\n      <th>Borough</th>\n      <th>Neighborhood</th>\n      <th>Latitude</th>\n      <th>Longitude</th>\n    </tr>\n  </thead>\n  <tbody>\n    <tr>\n      <th>0</th>\n      <td>M1A</td>\n      <td>Not assigned</td>\n      <td>Not assigned</td>\n      <td>NaN</td>\n      <td>NaN</td>\n    </tr>\n    <tr>\n      <th>1</th>\n      <td>M1B</td>\n      <td>Scarborough</td>\n      <td>Rouge, Malvern</td>\n      <td>43.806686</td>\n      <td>-79.194353</td>\n    </tr>\n    <tr>\n      <th>2</th>\n      <td>M1C</td>\n      <td>Scarborough</td>\n      <td>Highland Creek, Rouge Hill, Port Union</td>\n      <td>43.784535</td>\n      <td>-79.160497</td>\n    </tr>\n    <tr>\n      <th>3</th>\n      <td>M1E</td>\n      <td>Scarborough</td>\n      <td>Guildwood, Morningside, West Hill</td>\n      <td>43.763573</td>\n      <td>-79.188711</td>\n    </tr>\n    <tr>\n      <th>4</th>\n      <td>M1G</td>\n      <td>Scarborough</td>\n      <td>Woburn</td>\n      <td>43.770992</td>\n      <td>-79.216917</td>\n    </tr>\n    <tr>\n      <th>5</th>\n      <td>M1H</td>\n      <td>Scarborough</td>\n      <td>Cedarbrae</td>\n      <td>43.773136</td>\n      <td>-79.239476</td>\n    </tr>\n    <tr>\n      <th>6</th>\n      <td>M1J</td>\n      <td>Scarborough</td>\n      <td>Scarborough Village</td>\n      <td>43.744734</td>\n      <td>-79.239476</td>\n    </tr>\n    <tr>\n      <th>7</th>\n      <td>M1K</td>\n      <td>Scarborough</td>\n      <td>East Birchmount Park, Ionview, Kennedy Park</td>\n      <td>43.727929</td>\n      <td>-79.262029</td>\n    </tr>\n    <tr>\n      <th>8</th>\n      <td>M1L</td>\n      <td>Scarborough</td>\n      <td>Clairlea, Golden Mile, Oakridge</td>\n      <td>43.711112</td>\n      <td>-79.284577</td>\n    </tr>\n    <tr>\n      <th>9</th>\n      <td>M1M</td>\n      <td>Scarborough</td>\n      <td>Cliffcrest, Cliffside, Scarborough Village West</td>\n      <td>43.716316</td>\n      <td>-79.239476</td>\n    </tr>\n    <tr>\n      <th>10</th>\n      <td>M1N</td>\n      <td>Scarborough</td>\n      <td>Birch Cliff, Cliffside West</td>\n      <td>43.692657</td>\n      <td>-79.264848</td>\n    </tr>\n    <tr>\n      <th>11</th>\n      <td>M1P</td>\n      <td>Scarborough</td>\n      <td>Dorset Park, Scarborough Town Centre, Wexford ...</td>\n      <td>43.757410</td>\n      <td>-79.273304</td>\n    </tr>\n  </tbody>\n</table>\n</div>", 
                        "text/plain": "   Postcode       Borough                                       Neighborhood  \\\n0       M1A  Not assigned                                       Not assigned   \n1       M1B   Scarborough                                     Rouge, Malvern   \n2       M1C   Scarborough             Highland Creek, Rouge Hill, Port Union   \n3       M1E   Scarborough                  Guildwood, Morningside, West Hill   \n4       M1G   Scarborough                                             Woburn   \n5       M1H   Scarborough                                          Cedarbrae   \n6       M1J   Scarborough                                Scarborough Village   \n7       M1K   Scarborough        East Birchmount Park, Ionview, Kennedy Park   \n8       M1L   Scarborough                    Clairlea, Golden Mile, Oakridge   \n9       M1M   Scarborough    Cliffcrest, Cliffside, Scarborough Village West   \n10      M1N   Scarborough                        Birch Cliff, Cliffside West   \n11      M1P   Scarborough  Dorset Park, Scarborough Town Centre, Wexford ...   \n\n     Latitude  Longitude  \n0         NaN        NaN  \n1   43.806686 -79.194353  \n2   43.784535 -79.160497  \n3   43.763573 -79.188711  \n4   43.770992 -79.216917  \n5   43.773136 -79.239476  \n6   43.744734 -79.239476  \n7   43.727929 -79.262029  \n8   43.711112 -79.284577  \n9   43.716316 -79.239476  \n10  43.692657 -79.264848  \n11  43.757410 -79.273304  "
                    }, 
                    "output_type": "execute_result"
                }
            ], 
            "source": "postcodes_with_coordinates_df = grouped_df.join(coordinates_df.set_index('Postal Code'), on='Postcode')\npostcodes_with_coordinates_df.head(12)"
        }, 
        {
            "execution_count": null, 
            "cell_type": "code", 
            "metadata": {}, 
            "outputs": [], 
            "source": ""
        }
    ], 
    "metadata": {
        "kernelspec": {
            "display_name": "Python 3.6", 
            "name": "python3", 
            "language": "python"
        }, 
        "language_info": {
            "mimetype": "text/x-python", 
            "nbconvert_exporter": "python", 
            "version": "3.6.8", 
            "name": "python", 
            "file_extension": ".py", 
            "pygments_lexer": "ipython3", 
            "codemirror_mode": {
                "version": 3, 
                "name": "ipython"
            }
        }
    }, 
    "nbformat": 4
}